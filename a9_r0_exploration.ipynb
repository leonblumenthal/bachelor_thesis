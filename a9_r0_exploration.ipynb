{
 "cells": [
  {
   "cell_type": "code",
   "execution_count": 1,
   "metadata": {},
   "outputs": [],
   "source": [
    "from dataclasses import astuple\n",
    "\n",
    "import numpy as np\n",
    "import plotly.graph_objects as go\n",
    "\n",
    "from src.loaders import FrameLoader, LabelsLoader"
   ]
  },
  {
   "cell_type": "code",
   "execution_count": 2,
   "metadata": {},
   "outputs": [],
   "source": [
    "frame_loader = FrameLoader('data/a9_r0_dataset_undistorted/images')\n",
    "labels_loader = LabelsLoader('data/a9_r0_dataset_undistorted/labels')"
   ]
  },
  {
   "cell_type": "code",
   "execution_count": 3,
   "metadata": {},
   "outputs": [
    {
     "data": {
      "application/vnd.plotly.v1+json": {
       "config": {
        "plotlyServerURL": "https://plot.ly"
       },
       "data": [
        {
         "customdata": [
          "s40_camera_basler_north_16mm",
          "s50_camera_basler_south_16mm",
          "s40_camera_basler_north_50mm",
          "s50_camera_basler_south_50mm",
          "s40_camera_basler_north_16mm",
          "s50_camera_basler_south_16mm",
          "s40_camera_basler_north_50mm",
          "s50_camera_basler_south_50mm",
          "s40_camera_basler_north_16mm",
          "s50_camera_basler_south_16mm",
          "s40_camera_basler_north_50mm",
          "s50_camera_basler_south_50mm",
          "s40_camera_basler_north_16mm",
          "s50_camera_basler_south_16mm",
          "s40_camera_basler_north_50mm",
          "s50_camera_basler_south_50mm",
          "s40_camera_basler_north_16mm",
          "s50_camera_basler_south_16mm",
          "s40_camera_basler_north_50mm",
          "s50_camera_basler_south_50mm",
          "s40_camera_basler_north_16mm",
          "s50_camera_basler_south_16mm",
          "s50_camera_basler_south_50mm",
          "s40_camera_basler_north_50mm",
          "s40_camera_basler_north_16mm",
          "s50_camera_basler_south_16mm",
          "s50_camera_basler_south_50mm",
          "s40_camera_basler_north_50mm",
          "s40_camera_basler_north_16mm",
          "s50_camera_basler_south_16mm",
          "s50_camera_basler_south_50mm",
          "s40_camera_basler_north_50mm",
          "s40_camera_basler_north_16mm",
          "s50_camera_basler_south_16mm",
          "s50_camera_basler_south_50mm",
          "s40_camera_basler_north_50mm",
          "s40_camera_basler_north_16mm",
          "s50_camera_basler_south_16mm",
          "s50_camera_basler_south_50mm",
          "s40_camera_basler_north_50mm",
          "s40_camera_basler_north_16mm",
          "s50_camera_basler_south_16mm",
          "s50_camera_basler_south_50mm",
          "s40_camera_basler_north_50mm",
          "s40_camera_basler_north_16mm",
          "s50_camera_basler_south_16mm",
          "s50_camera_basler_south_50mm",
          "s40_camera_basler_north_50mm",
          "s40_camera_basler_north_16mm",
          "s50_camera_basler_south_16mm",
          "s50_camera_basler_south_50mm",
          "s40_camera_basler_north_50mm",
          "s40_camera_basler_north_16mm",
          "s50_camera_basler_south_16mm",
          "s50_camera_basler_south_50mm",
          "s40_camera_basler_north_50mm",
          "s40_camera_basler_north_16mm",
          "s50_camera_basler_south_16mm",
          "s50_camera_basler_south_50mm",
          "s40_camera_basler_north_50mm",
          "s40_camera_basler_north_16mm",
          "s50_camera_basler_south_16mm",
          "s40_camera_basler_north_50mm",
          "s50_camera_basler_south_50mm",
          "s40_camera_basler_north_16mm",
          "s50_camera_basler_south_16mm",
          "s40_camera_basler_north_50mm",
          "s50_camera_basler_south_50mm",
          "s40_camera_basler_north_16mm",
          "s50_camera_basler_south_16mm",
          "s40_camera_basler_north_50mm",
          "s50_camera_basler_south_50mm",
          "s40_camera_basler_north_16mm",
          "s50_camera_basler_south_16mm",
          "s40_camera_basler_north_50mm",
          "s50_camera_basler_south_50mm",
          "s40_camera_basler_north_16mm",
          "s50_camera_basler_south_16mm",
          "s40_camera_basler_north_50mm",
          "s50_camera_basler_south_50mm",
          "s40_camera_basler_north_16mm",
          "s50_camera_basler_south_16mm",
          "s40_camera_basler_north_50mm",
          "s50_camera_basler_south_50mm",
          "s40_camera_basler_north_16mm",
          "s50_camera_basler_south_16mm",
          "s40_camera_basler_north_50mm",
          "s50_camera_basler_south_50mm",
          "s40_camera_basler_north_16mm",
          "s50_camera_basler_south_16mm",
          "s40_camera_basler_north_50mm",
          "s50_camera_basler_south_50mm",
          "s40_camera_basler_north_16mm",
          "s50_camera_basler_south_16mm",
          "s40_camera_basler_north_50mm",
          "s50_camera_basler_south_50mm",
          "s40_camera_basler_north_16mm",
          "s50_camera_basler_south_16mm",
          "s40_camera_basler_north_50mm",
          "s50_camera_basler_south_50mm",
          "s40_camera_basler_north_16mm",
          "s50_camera_basler_south_16mm",
          "s40_camera_basler_north_50mm",
          "s50_camera_basler_south_50mm",
          "s40_camera_basler_north_16mm",
          "s50_camera_basler_south_16mm",
          "s40_camera_basler_north_50mm",
          "s50_camera_basler_south_50mm",
          "s40_camera_basler_north_16mm",
          "s50_camera_basler_south_16mm",
          "s50_camera_basler_south_50mm",
          "s40_camera_basler_north_50mm",
          "s40_camera_basler_north_16mm",
          "s50_camera_basler_south_16mm",
          "s50_camera_basler_south_50mm",
          "s40_camera_basler_north_50mm",
          "s40_camera_basler_north_50mm",
          "s50_camera_basler_south_16mm",
          "s40_camera_basler_north_50mm",
          "s40_camera_basler_north_16mm",
          "s50_camera_basler_south_16mm",
          "s50_camera_basler_south_50mm",
          "s40_camera_basler_north_50mm",
          "s40_camera_basler_north_16mm",
          "s50_camera_basler_south_16mm",
          "s50_camera_basler_south_50mm",
          "s40_camera_basler_north_50mm",
          "s40_camera_basler_north_16mm",
          "s50_camera_basler_south_16mm",
          "s50_camera_basler_south_50mm",
          "s40_camera_basler_north_50mm",
          "s40_camera_basler_north_16mm",
          "s50_camera_basler_south_16mm",
          "s50_camera_basler_south_50mm",
          "s40_camera_basler_north_50mm",
          "s40_camera_basler_north_16mm",
          "s50_camera_basler_south_16mm",
          "s50_camera_basler_south_50mm",
          "s40_camera_basler_north_50mm",
          "s40_camera_basler_north_50mm",
          "s40_camera_basler_north_16mm",
          "s50_camera_basler_south_16mm",
          "s50_camera_basler_south_50mm",
          "s40_camera_basler_north_50mm",
          "s40_camera_basler_north_16mm",
          "s50_camera_basler_south_16mm",
          "s50_camera_basler_south_50mm",
          "s40_camera_basler_north_50mm",
          "s40_camera_basler_north_16mm",
          "s50_camera_basler_south_16mm",
          "s50_camera_basler_south_50mm",
          "s40_camera_basler_north_50mm",
          "s40_camera_basler_north_16mm",
          "s50_camera_basler_south_50mm",
          "s50_camera_basler_south_16mm",
          "s40_camera_basler_north_50mm",
          "s40_camera_basler_north_16mm",
          "s50_camera_basler_south_50mm",
          "s50_camera_basler_south_16mm",
          "s40_camera_basler_north_50mm",
          "s50_camera_basler_south_16mm",
          "s40_camera_basler_north_50mm",
          "s40_camera_basler_north_16mm",
          "s50_camera_basler_south_50mm",
          "s50_camera_basler_south_16mm",
          "s40_camera_basler_north_50mm",
          "s40_camera_basler_north_16mm",
          "s50_camera_basler_south_50mm",
          "s50_camera_basler_south_16mm",
          "s40_camera_basler_north_50mm",
          "s40_camera_basler_north_16mm",
          "s50_camera_basler_south_50mm",
          "s40_camera_basler_north_50mm",
          "s50_camera_basler_south_16mm",
          "s50_camera_basler_south_50mm",
          "s40_camera_basler_north_16mm",
          "s40_camera_basler_north_50mm",
          "s50_camera_basler_south_16mm",
          "s50_camera_basler_south_50mm",
          "s40_camera_basler_north_16mm",
          "s40_camera_basler_north_50mm",
          "s40_camera_basler_north_16mm",
          "s40_camera_basler_north_50mm",
          "s50_camera_basler_south_16mm",
          "s50_camera_basler_south_50mm",
          "s40_camera_basler_north_16mm",
          "s40_camera_basler_north_50mm",
          "s50_camera_basler_south_50mm",
          "s50_camera_basler_south_16mm",
          "s40_camera_basler_north_16mm",
          "s40_camera_basler_north_50mm",
          "s50_camera_basler_south_50mm",
          "s50_camera_basler_south_16mm",
          "s40_camera_basler_north_16mm",
          "s40_camera_basler_north_50mm",
          "s50_camera_basler_south_50mm",
          "s50_camera_basler_south_16mm",
          "s40_camera_basler_north_16mm",
          "s40_camera_basler_north_50mm",
          "s50_camera_basler_south_50mm",
          "s50_camera_basler_south_16mm",
          "s40_camera_basler_north_50mm",
          "s40_camera_basler_north_16mm",
          "s50_camera_basler_south_16mm",
          "s40_camera_basler_north_50mm",
          "s50_camera_basler_south_50mm",
          "s40_camera_basler_north_16mm",
          "s50_camera_basler_south_16mm",
          "s40_camera_basler_north_50mm",
          "s50_camera_basler_south_50mm",
          "s40_camera_basler_north_16mm",
          "s50_camera_basler_south_16mm",
          "s40_camera_basler_north_50mm",
          "s50_camera_basler_south_50mm",
          "s40_camera_basler_north_16mm",
          "s50_camera_basler_south_16mm",
          "s40_camera_basler_north_50mm",
          "s50_camera_basler_south_50mm",
          "s40_camera_basler_north_16mm",
          "s50_camera_basler_south_16mm",
          "s40_camera_basler_north_50mm",
          "s50_camera_basler_south_50mm",
          "s50_camera_basler_south_50mm",
          "s40_camera_basler_north_50mm.",
          "s40_camera_basler_north_50mm",
          "s40_camera_basler_north_16mm",
          "s40_camera_basler_north_50mm.",
          "s40_camera_basler_north_50mm.",
          "s40_camera_basler_north_50mm.",
          "s40_camera_basler_north_50mm.",
          "s40_camera_basler_north_50mm.",
          "s40_camera_basler_north_50mm.",
          "s40_camera_basler_north_50mm.",
          "s40_camera_basler_north_50mm.",
          "s40_camera_basler_north_50mm.",
          "s40_camera_basler_north_50mm.",
          "s40_camera_basler_north_50mm.",
          "s40_camera_basler_north_50mm.",
          "s40_camera_basler_north_50mm.",
          "s40_camera_basler_north_50mm.",
          "s40_camera_basler_north_50mm.",
          "s40_camera_basler_north_50mm.",
          "s40_camera_basler_north_50mm.",
          "s40_camera_basler_north_50mm.",
          "s40_camera_basler_north_50mm.",
          "s40_camera_basler_north_50mm.",
          "s40_camera_basler_north_50mm.",
          "s40_camera_basler_north_50mm.",
          "s40_camera_basler_north_50mm.",
          "s40_camera_basler_north_50mm.",
          "s50_camera_basler_south_50mm",
          "s40_camera_basler_north_50mm.",
          "s40_camera_basler_north_50mm",
          "s40_camera_basler_north_16mm",
          "s40_camera_basler_north_50mm.",
          "s40_camera_basler_north_50mm.",
          "s40_camera_basler_north_50mm.",
          "s40_camera_basler_north_50mm.",
          "s40_camera_basler_north_50mm.",
          "s40_camera_basler_north_50mm.",
          "s40_camera_basler_north_50mm.",
          "s40_camera_basler_north_50mm.",
          "s40_camera_basler_north_50mm.",
          "s40_camera_basler_north_50mm.",
          "s40_camera_basler_north_50mm.",
          "s40_camera_basler_north_50mm.",
          "s40_camera_basler_north_50mm.",
          "s40_camera_basler_north_50mm.",
          "s40_camera_basler_north_50mm.",
          "s40_camera_basler_north_50mm.",
          "s40_camera_basler_north_50mm.",
          "s40_camera_basler_north_50mm.",
          "s40_camera_basler_north_50mm.",
          "s40_camera_basler_north_50mm.",
          "s40_camera_basler_north_50mm.",
          "s40_camera_basler_north_50mm.",
          "s40_camera_basler_north_50mm.",
          "s40_camera_basler_north_50mm.",
          "s50_camera_basler_south_50mm",
          "s40_camera_basler_north_16mm",
          "s40_camera_basler_north_50mm.",
          "s40_camera_basler_north_50mm",
          "s40_camera_basler_north_50mm.",
          "s40_camera_basler_north_50mm.",
          "s40_camera_basler_north_50mm.",
          "s40_camera_basler_north_50mm.",
          "s40_camera_basler_north_50mm.",
          "s40_camera_basler_north_50mm.",
          "s40_camera_basler_north_50mm.",
          "s40_camera_basler_north_50mm.",
          "s40_camera_basler_north_50mm.",
          "s50_camera_basler_south_50mm",
          "s40_camera_basler_north_16mm",
          "s40_camera_basler_north_50mm",
          "s50_camera_basler_south_50mm",
          "s40_camera_basler_north_50mm",
          "s40_camera_basler_north_16mm",
          "s50_camera_basler_south_50mm",
          "s40_camera_basler_north_50mm",
          "s40_camera_basler_north_16mm",
          "s50_camera_basler_south_50mm",
          "s40_camera_basler_north_50mm",
          "s40_camera_basler_north_16mm",
          "s50_camera_basler_south_50mm",
          "s40_camera_basler_north_50mm",
          "s40_camera_basler_north_16mm",
          "s50_camera_basler_south_50mm",
          "s40_camera_basler_north_50mm",
          "s40_camera_basler_north_16mm",
          "s50_camera_basler_south_50mm",
          "s40_camera_basler_north_50mm",
          "s40_camera_basler_north_16mm",
          "s50_camera_basler_south_50mm",
          "s40_camera_basler_north_50mm",
          "s40_camera_basler_north_16mm",
          "s50_camera_basler_south_50mm",
          "s40_camera_basler_north_16mm",
          "s40_camera_basler_north_50mm",
          "s50_camera_basler_south_50mm",
          "s40_camera_basler_north_16mm",
          "s40_camera_basler_north_50mm",
          "s50_camera_basler_south_50mm",
          "s40_camera_basler_north_50mm",
          "s40_camera_basler_north_16mm",
          "s40_camera_basler_north_50mm",
          "s50_camera_basler_south_50mm",
          "s40_camera_basler_north_16mm",
          "s40_camera_basler_north_50mm",
          "s50_camera_basler_south_50mm",
          "s40_camera_basler_north_16mm",
          "s40_camera_basler_north_50mm",
          "s50_camera_basler_south_50mm",
          "s40_camera_basler_north_16mm",
          "s40_camera_basler_north_50mm",
          "s50_camera_basler_south_50mm",
          "s40_camera_basler_north_16mm",
          "s50_camera_basler_south_50mm",
          "s40_camera_basler_north_16mm",
          "s40_camera_basler_north_50mm",
          "s50_camera_basler_south_50mm",
          "s40_camera_basler_north_16mm",
          "s40_camera_basler_north_50mm",
          "s50_camera_basler_south_50mm",
          "s40_camera_basler_north_50mm",
          "s40_camera_basler_north_16mm",
          "s50_camera_basler_south_50mm",
          "s40_camera_basler_north_50mm",
          "s40_camera_basler_north_16mm",
          "s50_camera_basler_south_50mm",
          "s40_camera_basler_north_50mm",
          "s40_camera_basler_north_16mm",
          "s50_camera_basler_south_50mm",
          "s40_camera_basler_north_50mm",
          "s40_camera_basler_north_16mm",
          "s40_camera_basler_north_50mm",
          "s50_camera_basler_south_50mm",
          "s40_camera_basler_north_16mm",
          "s50_camera_basler_south_50mm",
          "s40_camera_basler_north_50mm",
          "s40_camera_basler_north_16mm",
          "s50_camera_basler_south_50mm",
          "s40_camera_basler_north_16mm",
          "s40_camera_basler_north_50mm",
          "s50_camera_basler_south_50mm",
          "s40_camera_basler_north_50mm",
          "s40_camera_basler_north_16mm",
          "s50_camera_basler_south_50mm",
          "s40_camera_basler_north_50mm",
          "s40_camera_basler_north_16mm",
          "s50_camera_basler_south_50mm",
          "s40_camera_basler_north_50mm",
          "s40_camera_basler_north_16mm",
          "s50_camera_basler_south_50mm",
          "s40_camera_basler_north_16mm",
          "s40_camera_basler_north_50mm",
          "s50_camera_basler_south_50mm",
          "s40_camera_basler_north_50mm",
          "s40_camera_basler_north_16mm",
          "s50_camera_basler_south_50mm",
          "s40_camera_basler_north_50mm",
          "s40_camera_basler_north_16mm",
          "s50_camera_basler_south_50mm",
          "s40_camera_basler_north_50mm",
          "s40_camera_basler_north_16mm",
          "s50_camera_basler_south_50mm",
          "s40_camera_basler_north_50mm",
          "s40_camera_basler_north_16mm",
          "s50_camera_basler_south_50mm",
          "s40_camera_basler_north_50mm",
          "s40_camera_basler_north_16mm",
          "s40_camera_basler_north_16mm",
          "s50_camera_basler_south_50mm",
          "s40_camera_basler_north_50mm",
          "s40_camera_basler_north_50mm",
          "s40_camera_basler_north_16mm",
          "s50_camera_basler_south_50mm",
          "s40_camera_basler_north_50mm",
          "s50_camera_basler_south_50mm",
          "s40_camera_basler_north_16mm",
          "s50_camera_basler_south_50mm",
          "s40_camera_basler_north_16mm",
          "s40_camera_basler_north_50mm",
          "s50_camera_basler_south_50mm",
          "s40_camera_basler_north_16mm",
          "s40_camera_basler_north_50mm",
          "s50_camera_basler_south_50mm",
          "s40_camera_basler_north_16mm",
          "s40_camera_basler_north_50mm",
          "s40_camera_basler_north_50mm",
          "s50_camera_basler_south_50mm",
          "s40_camera_basler_north_16mm",
          "s40_camera_basler_north_50mm",
          "s50_camera_basler_south_50mm",
          "s40_camera_basler_north_16mm",
          "s40_camera_basler_north_50mm",
          "s50_camera_basler_south_50mm",
          "s40_camera_basler_north_16mm",
          "s40_camera_basler_north_50mm",
          "s50_camera_basler_south_50mm",
          "s40_camera_basler_north_16mm",
          "s40_camera_basler_north_50mm",
          "s50_camera_basler_south_50mm",
          "s40_camera_basler_north_16mm",
          "s40_camera_basler_north_50mm",
          "s50_camera_basler_south_50mm",
          "s40_camera_basler_north_16mm",
          "s40_camera_basler_north_16mm",
          "s40_camera_basler_north_50mm",
          "s50_camera_basler_south_50mm",
          "s40_camera_basler_north_16mm",
          "s40_camera_basler_north_50mm",
          "s50_camera_basler_south_50mm",
          "s40_camera_basler_north_16mm",
          "s40_camera_basler_north_50mm",
          "s50_camera_basler_south_50mm",
          "s40_camera_basler_north_16mm",
          "s40_camera_basler_north_50mm",
          "s50_camera_basler_south_50mm",
          "s40_camera_basler_north_16mm",
          "s40_camera_basler_north_50mm",
          "s50_camera_basler_south_50mm",
          "s40_camera_basler_north_16mm",
          "s40_camera_basler_north_50mm",
          "s50_camera_basler_south_50mm",
          "s40_camera_basler_north_16mm",
          "s40_camera_basler_north_50mm",
          "s50_camera_basler_south_50mm",
          "s40_camera_basler_north_16mm",
          "s40_camera_basler_north_50mm",
          "s50_camera_basler_south_50mm",
          "s40_camera_basler_north_16mm",
          "s40_camera_basler_north_50mm",
          "s50_camera_basler_south_50mm",
          "s40_camera_basler_north_50mm",
          "s50_camera_basler_south_50mm",
          "s40_camera_basler_north_16mm",
          "s40_camera_basler_north_50mm",
          "s50_camera_basler_south_50mm",
          "s40_camera_basler_north_16mm",
          "s40_camera_basler_north_50mm",
          "s50_camera_basler_south_50mm",
          "s40_camera_basler_north_16mm",
          "s40_camera_basler_north_16mm",
          "s50_camera_basler_south_16mm",
          "s50_camera_basler_south_50mm",
          "s40_camera_basler_north_16mm",
          "s50_camera_basler_south_16mm",
          "s50_camera_basler_south_50mm",
          "s40_camera_basler_north_16mm",
          "s50_camera_basler_south_16mm",
          "s50_camera_basler_south_50mm",
          "s40_camera_basler_north_16mm",
          "s50_camera_basler_south_16mm",
          "s50_camera_basler_south_50mm",
          "s50_camera_basler_south_16mm",
          "s40_camera_basler_north_16mm",
          "s50_camera_basler_south_50mm",
          "s40_camera_basler_north_16mm",
          "s50_camera_basler_south_16mm",
          "s50_camera_basler_south_50mm",
          "s50_camera_basler_south_50mm",
          "s40_camera_basler_north_16mm",
          "s50_camera_basler_south_16mm",
          "s40_camera_basler_north_16mm",
          "s50_camera_basler_south_16mm",
          "s50_camera_basler_south_50mm",
          "s40_camera_basler_north_16mm",
          "s50_camera_basler_south_16mm",
          "s50_camera_basler_south_50mm",
          "s50_camera_basler_south_16mm",
          "s50_camera_basler_south_50mm",
          "s40_camera_basler_north_16mm",
          "s50_camera_basler_south_16mm",
          "s50_camera_basler_south_50mm",
          "s40_camera_basler_north_16mm",
          "s50_camera_basler_south_16mm",
          "s50_camera_basler_south_50mm",
          "s40_camera_basler_north_16mm",
          "s40_camera_basler_north_16mm",
          "s50_camera_basler_south_16mm",
          "s50_camera_basler_south_50mm",
          "s40_camera_basler_north_16mm",
          "s50_camera_basler_south_16mm",
          "s50_camera_basler_south_50mm",
          "s50_camera_basler_south_16mm",
          "s50_camera_basler_south_50mm",
          "s40_camera_basler_north_16mm",
          "s40_camera_basler_north_16mm",
          "s50_camera_basler_south_16mm",
          "s50_camera_basler_south_50mm",
          "s50_camera_basler_south_16mm",
          "s50_camera_basler_south_50mm",
          "s40_camera_basler_north_16mm",
          "s40_camera_basler_north_16mm",
          "s50_camera_basler_south_16mm",
          "s50_camera_basler_south_50mm",
          "s50_camera_basler_south_16mm",
          "s50_camera_basler_south_50mm",
          "s40_camera_basler_north_16mm",
          "s50_camera_basler_south_16mm",
          "s50_camera_basler_south_50mm",
          "s40_camera_basler_north_16mm",
          "s40_camera_basler_north_16mm",
          "s50_camera_basler_south_50mm",
          "s50_camera_basler_south_16mm",
          "s50_camera_basler_south_50mm",
          "s40_camera_basler_north_16mm",
          "s50_camera_basler_south_16mm",
          "s50_camera_basler_south_50mm",
          "s50_camera_basler_south_16mm",
          "s40_camera_basler_north_16mm",
          "s50_camera_basler_south_50mm",
          "s50_camera_basler_south_16mm",
          "s40_camera_basler_north_16mm",
          "s40_camera_basler_north_16mm",
          "s50_camera_basler_south_50mm",
          "s50_camera_basler_south_16mm",
          "s40_camera_basler_north_16mm",
          "s50_camera_basler_south_16mm",
          "s50_camera_basler_south_50mm",
          "s40_camera_basler_north_16mm",
          "s50_camera_basler_south_16mm",
          "s50_camera_basler_south_50mm",
          "s50_camera_basler_south_16mm",
          "s40_camera_basler_north_16mm",
          "s50_camera_basler_south_50mm",
          "s50_camera_basler_south_16mm",
          "s40_camera_basler_north_16mm",
          "s50_camera_basler_south_50mm",
          "s50_camera_basler_south_16mm",
          "s40_camera_basler_north_16mm",
          "s50_camera_basler_south_50mm",
          "s40_camera_basler_north_16mm",
          "s50_camera_basler_south_16mm",
          "s50_camera_basler_south_50mm",
          "s40_camera_basler_north_16mm",
          "s50_camera_basler_south_16mm",
          "s50_camera_basler_south_50mm",
          "s40_camera_basler_north_16mm",
          "s50_camera_basler_south_16mm",
          "s50_camera_basler_south_50mm",
          "s50_camera_basler_south_16mm",
          "s40_camera_basler_north_16mm",
          "s50_camera_basler_south_50mm",
          "s50_camera_basler_south_16mm",
          "s40_camera_basler_north_16mm",
          "s50_camera_basler_south_50mm",
          "s50_camera_basler_south_16mm",
          "s50_camera_basler_south_50mm",
          "s40_camera_basler_north_16mm",
          "s40_camera_basler_north_16mm",
          "s50_camera_basler_south_16mm",
          "s50_camera_basler_south_50mm",
          "s40_camera_basler_north_16mm",
          "s50_camera_basler_south_16mm",
          "s50_camera_basler_south_50mm",
          "s40_camera_basler_north_16mm",
          "s50_camera_basler_south_16mm",
          "s50_camera_basler_south_50mm",
          "s50_camera_basler_south_50mm",
          "s50_camera_basler_south_16mm",
          "s40_camera_basler_north_16mm",
          "s50_camera_basler_south_50mm",
          "s50_camera_basler_south_16mm",
          "s40_camera_basler_north_16mm",
          "s50_camera_basler_south_50mm",
          "s40_camera_basler_north_16mm",
          "s50_camera_basler_south_16mm",
          "s50_camera_basler_south_50mm",
          "s40_camera_basler_north_16mm",
          "s50_camera_basler_south_16mm",
          "s50_camera_basler_south_50mm",
          "s40_camera_basler_north_16mm",
          "s50_camera_basler_south_16mm",
          "s50_camera_basler_south_50mm",
          "s40_camera_basler_north_16mm",
          "s50_camera_basler_south_16mm",
          "s50_camera_basler_south_50mm",
          "s40_camera_basler_north_16mm",
          "s50_camera_basler_south_16mm",
          "s50_camera_basler_south_50mm",
          "s50_camera_basler_south_16mm",
          "s40_camera_basler_north_16mm",
          "s50_camera_basler_south_50mm",
          "s40_camera_basler_north_16mm",
          "s50_camera_basler_south_16mm",
          "s40_camera_basler_north_16mm",
          "s50_camera_basler_south_16mm",
          "s50_camera_basler_south_50mm",
          "s40_camera_basler_north_16mm",
          "s50_camera_basler_south_16mm",
          "s50_camera_basler_south_50mm",
          "s40_camera_basler_north_16mm",
          "s50_camera_basler_south_16mm",
          "s50_camera_basler_south_50mm",
          "s40_camera_basler_north_16mm",
          "s50_camera_basler_south_16mm",
          "s50_camera_basler_south_50mm",
          "s40_camera_basler_north_16mm",
          "s50_camera_basler_south_16mm",
          "s50_camera_basler_south_50mm",
          "s40_camera_basler_north_16mm",
          "s50_camera_basler_south_16mm",
          "s50_camera_basler_south_50mm",
          "s40_camera_basler_north_16mm",
          "s50_camera_basler_south_16mm",
          "s50_camera_basler_south_50mm",
          "s50_camera_basler_south_16mm",
          "s40_camera_basler_north_16mm",
          "s50_camera_basler_south_50mm",
          "s50_camera_basler_south_16mm",
          "s40_camera_basler_north_16mm",
          "s50_camera_basler_south_50mm",
          "s40_camera_basler_north_16mm",
          "s50_camera_basler_south_16mm",
          "s50_camera_basler_south_50mm",
          "s40_camera_basler_north_16mm",
          "s50_camera_basler_south_16mm",
          "s50_camera_basler_south_50mm",
          "s40_camera_basler_north_16mm",
          "s50_camera_basler_south_16mm",
          "s50_camera_basler_south_50mm"
         ],
         "hovertemplate": "index: %{x}<br>#vehicles: %{y}<br>frame: %{customdata}",
         "type": "bar",
         "y": [
          4,
          2,
          13,
          5,
          15,
          10,
          15,
          11,
          14,
          8,
          18,
          6,
          12,
          3,
          12,
          7,
          6,
          3,
          12,
          4,
          10,
          7,
          5,
          10,
          12,
          5,
          6,
          21,
          14,
          6,
          12,
          16,
          11,
          4,
          6,
          16,
          10,
          7,
          7,
          15,
          8,
          4,
          7,
          16,
          12,
          3,
          8,
          14,
          8,
          3,
          5,
          11,
          13,
          5,
          8,
          15,
          14,
          7,
          7,
          16,
          8,
          4,
          14,
          7,
          9,
          2,
          14,
          4,
          8,
          4,
          11,
          4,
          8,
          3,
          10,
          5,
          7,
          3,
          11,
          5,
          15,
          4,
          18,
          13,
          15,
          7,
          21,
          10,
          6,
          2,
          13,
          6,
          6,
          1,
          10,
          4,
          10,
          7,
          16,
          6,
          14,
          7,
          18,
          15,
          9,
          2,
          13,
          4,
          4,
          1,
          4,
          8,
          3,
          2,
          3,
          8,
          7,
          3,
          13,
          4,
          4,
          2,
          17,
          10,
          1,
          9,
          12,
          3,
          2,
          1,
          11,
          6,
          0,
          6,
          8,
          5,
          3,
          4,
          10,
          13,
          6,
          3,
          5,
          13,
          5,
          5,
          5,
          15,
          11,
          4,
          7,
          21,
          11,
          8,
          6,
          22,
          18,
          15,
          2,
          19,
          2,
          10,
          7,
          8,
          6,
          16,
          11,
          9,
          2,
          15,
          2,
          1,
          15,
          5,
          9,
          10,
          19,
          1,
          9,
          9,
          20,
          8,
          18,
          3,
          7,
          6,
          9,
          5,
          2,
          8,
          17,
          9,
          2,
          12,
          27,
          14,
          5,
          11,
          22,
          9,
          4,
          20,
          10,
          1,
          22,
          10,
          6,
          4,
          18,
          7,
          10,
          2,
          17,
          7,
          9,
          2,
          16,
          9,
          9,
          7,
          17,
          6,
          19,
          41,
          40,
          29,
          40,
          42,
          43,
          42,
          38,
          40,
          41,
          35,
          35,
          34,
          35,
          36,
          38,
          37,
          37,
          37,
          37,
          34,
          35,
          36,
          36,
          35,
          32,
          34,
          18,
          32,
          43,
          26,
          32,
          30,
          29,
          28,
          29,
          26,
          27,
          30,
          30,
          29,
          29,
          31,
          32,
          33,
          35,
          31,
          28,
          28,
          28,
          31,
          32,
          32,
          32,
          31,
          23,
          20,
          31,
          33,
          30,
          33,
          31,
          33,
          35,
          36,
          39,
          34,
          37,
          16,
          23,
          45,
          20,
          49,
          23,
          24,
          55,
          26,
          19,
          45,
          23,
          15,
          32,
          17,
          15,
          28,
          23,
          14,
          36,
          16,
          19,
          28,
          12,
          17,
          16,
          34,
          19,
          20,
          38,
          15,
          32,
          20,
          33,
          17,
          20,
          40,
          18,
          28,
          38,
          27,
          27,
          36,
          17,
          22,
          18,
          20,
          39,
          20,
          17,
          45,
          20,
          41,
          27,
          19,
          56,
          18,
          21,
          43,
          22,
          16,
          26,
          17,
          31,
          12,
          11,
          17,
          45,
          19,
          16,
          16,
          48,
          29,
          70,
          24,
          18,
          45,
          16,
          15,
          46,
          20,
          17,
          7,
          38,
          24,
          44,
          13,
          25,
          48,
          16,
          13,
          41,
          13,
          9,
          39,
          11,
          15,
          48,
          19,
          15,
          21,
          44,
          50,
          20,
          21,
          48,
          18,
          14,
          20,
          14,
          52,
          23,
          18,
          52,
          18,
          12,
          35,
          48,
          19,
          16,
          43,
          20,
          20,
          51,
          19,
          25,
          62,
          25,
          16,
          43,
          15,
          13,
          43,
          17,
          9,
          15,
          47,
          22,
          14,
          43,
          21,
          12,
          37,
          16,
          9,
          37,
          14,
          12,
          49,
          18,
          21,
          52,
          19,
          12,
          40,
          16,
          9,
          43,
          17,
          19,
          50,
          18,
          42,
          20,
          12,
          42,
          15,
          12,
          45,
          17,
          15,
          10,
          16,
          19,
          9,
          10,
          22,
          6,
          11,
          19,
          8,
          11,
          29,
          12,
          15,
          24,
          13,
          19,
          30,
          32,
          11,
          12,
          8,
          7,
          17,
          8,
          17,
          20,
          13,
          34,
          13,
          17,
          21,
          7,
          12,
          12,
          6,
          19,
          7,
          25,
          13,
          21,
          27,
          14,
          26,
          13,
          6,
          14,
          25,
          9,
          19,
          8,
          8,
          9,
          19,
          13,
          29,
          11,
          11,
          23,
          14,
          13,
          22,
          10,
          32,
          9,
          18,
          30,
          12,
          14,
          19,
          12,
          7,
          9,
          22,
          11,
          9,
          15,
          25,
          19,
          7,
          33,
          10,
          6,
          21,
          15,
          4,
          22,
          11,
          9,
          18,
          9,
          12,
          21,
          9,
          8,
          21,
          9,
          18,
          17,
          13,
          10,
          20,
          13,
          5,
          19,
          9,
          19,
          8,
          13,
          14,
          18,
          11,
          13,
          31,
          9,
          14,
          19,
          22,
          12,
          8,
          18,
          11,
          10,
          21,
          9,
          10,
          21,
          9,
          6,
          25,
          10,
          8,
          29,
          8,
          9,
          22,
          13,
          10,
          24,
          12,
          9,
          17,
          4,
          11,
          8,
          3,
          17,
          5,
          14,
          23,
          12,
          7,
          22,
          8,
          14,
          25,
          7,
          11,
          22,
          9,
          10,
          28,
          6,
          11,
          26,
          11,
          10,
          28,
          6,
          12,
          18,
          2,
          17,
          12,
          8,
          6,
          24,
          11,
          17,
          24
         ]
        }
       ],
       "layout": {
        "template": {
         "data": {
          "bar": [
           {
            "error_x": {
             "color": "#2a3f5f"
            },
            "error_y": {
             "color": "#2a3f5f"
            },
            "marker": {
             "line": {
              "color": "#E5ECF6",
              "width": 0.5
             }
            },
            "type": "bar"
           }
          ],
          "barpolar": [
           {
            "marker": {
             "line": {
              "color": "#E5ECF6",
              "width": 0.5
             }
            },
            "type": "barpolar"
           }
          ],
          "carpet": [
           {
            "aaxis": {
             "endlinecolor": "#2a3f5f",
             "gridcolor": "white",
             "linecolor": "white",
             "minorgridcolor": "white",
             "startlinecolor": "#2a3f5f"
            },
            "baxis": {
             "endlinecolor": "#2a3f5f",
             "gridcolor": "white",
             "linecolor": "white",
             "minorgridcolor": "white",
             "startlinecolor": "#2a3f5f"
            },
            "type": "carpet"
           }
          ],
          "choropleth": [
           {
            "colorbar": {
             "outlinewidth": 0,
             "ticks": ""
            },
            "type": "choropleth"
           }
          ],
          "contour": [
           {
            "colorbar": {
             "outlinewidth": 0,
             "ticks": ""
            },
            "colorscale": [
             [
              0,
              "#0d0887"
             ],
             [
              0.1111111111111111,
              "#46039f"
             ],
             [
              0.2222222222222222,
              "#7201a8"
             ],
             [
              0.3333333333333333,
              "#9c179e"
             ],
             [
              0.4444444444444444,
              "#bd3786"
             ],
             [
              0.5555555555555556,
              "#d8576b"
             ],
             [
              0.6666666666666666,
              "#ed7953"
             ],
             [
              0.7777777777777778,
              "#fb9f3a"
             ],
             [
              0.8888888888888888,
              "#fdca26"
             ],
             [
              1,
              "#f0f921"
             ]
            ],
            "type": "contour"
           }
          ],
          "contourcarpet": [
           {
            "colorbar": {
             "outlinewidth": 0,
             "ticks": ""
            },
            "type": "contourcarpet"
           }
          ],
          "heatmap": [
           {
            "colorbar": {
             "outlinewidth": 0,
             "ticks": ""
            },
            "colorscale": [
             [
              0,
              "#0d0887"
             ],
             [
              0.1111111111111111,
              "#46039f"
             ],
             [
              0.2222222222222222,
              "#7201a8"
             ],
             [
              0.3333333333333333,
              "#9c179e"
             ],
             [
              0.4444444444444444,
              "#bd3786"
             ],
             [
              0.5555555555555556,
              "#d8576b"
             ],
             [
              0.6666666666666666,
              "#ed7953"
             ],
             [
              0.7777777777777778,
              "#fb9f3a"
             ],
             [
              0.8888888888888888,
              "#fdca26"
             ],
             [
              1,
              "#f0f921"
             ]
            ],
            "type": "heatmap"
           }
          ],
          "heatmapgl": [
           {
            "colorbar": {
             "outlinewidth": 0,
             "ticks": ""
            },
            "colorscale": [
             [
              0,
              "#0d0887"
             ],
             [
              0.1111111111111111,
              "#46039f"
             ],
             [
              0.2222222222222222,
              "#7201a8"
             ],
             [
              0.3333333333333333,
              "#9c179e"
             ],
             [
              0.4444444444444444,
              "#bd3786"
             ],
             [
              0.5555555555555556,
              "#d8576b"
             ],
             [
              0.6666666666666666,
              "#ed7953"
             ],
             [
              0.7777777777777778,
              "#fb9f3a"
             ],
             [
              0.8888888888888888,
              "#fdca26"
             ],
             [
              1,
              "#f0f921"
             ]
            ],
            "type": "heatmapgl"
           }
          ],
          "histogram": [
           {
            "marker": {
             "colorbar": {
              "outlinewidth": 0,
              "ticks": ""
             }
            },
            "type": "histogram"
           }
          ],
          "histogram2d": [
           {
            "colorbar": {
             "outlinewidth": 0,
             "ticks": ""
            },
            "colorscale": [
             [
              0,
              "#0d0887"
             ],
             [
              0.1111111111111111,
              "#46039f"
             ],
             [
              0.2222222222222222,
              "#7201a8"
             ],
             [
              0.3333333333333333,
              "#9c179e"
             ],
             [
              0.4444444444444444,
              "#bd3786"
             ],
             [
              0.5555555555555556,
              "#d8576b"
             ],
             [
              0.6666666666666666,
              "#ed7953"
             ],
             [
              0.7777777777777778,
              "#fb9f3a"
             ],
             [
              0.8888888888888888,
              "#fdca26"
             ],
             [
              1,
              "#f0f921"
             ]
            ],
            "type": "histogram2d"
           }
          ],
          "histogram2dcontour": [
           {
            "colorbar": {
             "outlinewidth": 0,
             "ticks": ""
            },
            "colorscale": [
             [
              0,
              "#0d0887"
             ],
             [
              0.1111111111111111,
              "#46039f"
             ],
             [
              0.2222222222222222,
              "#7201a8"
             ],
             [
              0.3333333333333333,
              "#9c179e"
             ],
             [
              0.4444444444444444,
              "#bd3786"
             ],
             [
              0.5555555555555556,
              "#d8576b"
             ],
             [
              0.6666666666666666,
              "#ed7953"
             ],
             [
              0.7777777777777778,
              "#fb9f3a"
             ],
             [
              0.8888888888888888,
              "#fdca26"
             ],
             [
              1,
              "#f0f921"
             ]
            ],
            "type": "histogram2dcontour"
           }
          ],
          "mesh3d": [
           {
            "colorbar": {
             "outlinewidth": 0,
             "ticks": ""
            },
            "type": "mesh3d"
           }
          ],
          "parcoords": [
           {
            "line": {
             "colorbar": {
              "outlinewidth": 0,
              "ticks": ""
             }
            },
            "type": "parcoords"
           }
          ],
          "pie": [
           {
            "automargin": true,
            "type": "pie"
           }
          ],
          "scatter": [
           {
            "marker": {
             "colorbar": {
              "outlinewidth": 0,
              "ticks": ""
             }
            },
            "type": "scatter"
           }
          ],
          "scatter3d": [
           {
            "line": {
             "colorbar": {
              "outlinewidth": 0,
              "ticks": ""
             }
            },
            "marker": {
             "colorbar": {
              "outlinewidth": 0,
              "ticks": ""
             }
            },
            "type": "scatter3d"
           }
          ],
          "scattercarpet": [
           {
            "marker": {
             "colorbar": {
              "outlinewidth": 0,
              "ticks": ""
             }
            },
            "type": "scattercarpet"
           }
          ],
          "scattergeo": [
           {
            "marker": {
             "colorbar": {
              "outlinewidth": 0,
              "ticks": ""
             }
            },
            "type": "scattergeo"
           }
          ],
          "scattergl": [
           {
            "marker": {
             "colorbar": {
              "outlinewidth": 0,
              "ticks": ""
             }
            },
            "type": "scattergl"
           }
          ],
          "scattermapbox": [
           {
            "marker": {
             "colorbar": {
              "outlinewidth": 0,
              "ticks": ""
             }
            },
            "type": "scattermapbox"
           }
          ],
          "scatterpolar": [
           {
            "marker": {
             "colorbar": {
              "outlinewidth": 0,
              "ticks": ""
             }
            },
            "type": "scatterpolar"
           }
          ],
          "scatterpolargl": [
           {
            "marker": {
             "colorbar": {
              "outlinewidth": 0,
              "ticks": ""
             }
            },
            "type": "scatterpolargl"
           }
          ],
          "scatterternary": [
           {
            "marker": {
             "colorbar": {
              "outlinewidth": 0,
              "ticks": ""
             }
            },
            "type": "scatterternary"
           }
          ],
          "surface": [
           {
            "colorbar": {
             "outlinewidth": 0,
             "ticks": ""
            },
            "colorscale": [
             [
              0,
              "#0d0887"
             ],
             [
              0.1111111111111111,
              "#46039f"
             ],
             [
              0.2222222222222222,
              "#7201a8"
             ],
             [
              0.3333333333333333,
              "#9c179e"
             ],
             [
              0.4444444444444444,
              "#bd3786"
             ],
             [
              0.5555555555555556,
              "#d8576b"
             ],
             [
              0.6666666666666666,
              "#ed7953"
             ],
             [
              0.7777777777777778,
              "#fb9f3a"
             ],
             [
              0.8888888888888888,
              "#fdca26"
             ],
             [
              1,
              "#f0f921"
             ]
            ],
            "type": "surface"
           }
          ],
          "table": [
           {
            "cells": {
             "fill": {
              "color": "#EBF0F8"
             },
             "line": {
              "color": "white"
             }
            },
            "header": {
             "fill": {
              "color": "#C8D4E3"
             },
             "line": {
              "color": "white"
             }
            },
            "type": "table"
           }
          ]
         },
         "layout": {
          "annotationdefaults": {
           "arrowcolor": "#2a3f5f",
           "arrowhead": 0,
           "arrowwidth": 1
          },
          "autotypenumbers": "strict",
          "coloraxis": {
           "colorbar": {
            "outlinewidth": 0,
            "ticks": ""
           }
          },
          "colorscale": {
           "diverging": [
            [
             0,
             "#8e0152"
            ],
            [
             0.1,
             "#c51b7d"
            ],
            [
             0.2,
             "#de77ae"
            ],
            [
             0.3,
             "#f1b6da"
            ],
            [
             0.4,
             "#fde0ef"
            ],
            [
             0.5,
             "#f7f7f7"
            ],
            [
             0.6,
             "#e6f5d0"
            ],
            [
             0.7,
             "#b8e186"
            ],
            [
             0.8,
             "#7fbc41"
            ],
            [
             0.9,
             "#4d9221"
            ],
            [
             1,
             "#276419"
            ]
           ],
           "sequential": [
            [
             0,
             "#0d0887"
            ],
            [
             0.1111111111111111,
             "#46039f"
            ],
            [
             0.2222222222222222,
             "#7201a8"
            ],
            [
             0.3333333333333333,
             "#9c179e"
            ],
            [
             0.4444444444444444,
             "#bd3786"
            ],
            [
             0.5555555555555556,
             "#d8576b"
            ],
            [
             0.6666666666666666,
             "#ed7953"
            ],
            [
             0.7777777777777778,
             "#fb9f3a"
            ],
            [
             0.8888888888888888,
             "#fdca26"
            ],
            [
             1,
             "#f0f921"
            ]
           ],
           "sequentialminus": [
            [
             0,
             "#0d0887"
            ],
            [
             0.1111111111111111,
             "#46039f"
            ],
            [
             0.2222222222222222,
             "#7201a8"
            ],
            [
             0.3333333333333333,
             "#9c179e"
            ],
            [
             0.4444444444444444,
             "#bd3786"
            ],
            [
             0.5555555555555556,
             "#d8576b"
            ],
            [
             0.6666666666666666,
             "#ed7953"
            ],
            [
             0.7777777777777778,
             "#fb9f3a"
            ],
            [
             0.8888888888888888,
             "#fdca26"
            ],
            [
             1,
             "#f0f921"
            ]
           ]
          },
          "colorway": [
           "#636efa",
           "#EF553B",
           "#00cc96",
           "#ab63fa",
           "#FFA15A",
           "#19d3f3",
           "#FF6692",
           "#B6E880",
           "#FF97FF",
           "#FECB52"
          ],
          "font": {
           "color": "#2a3f5f"
          },
          "geo": {
           "bgcolor": "white",
           "lakecolor": "white",
           "landcolor": "#E5ECF6",
           "showlakes": true,
           "showland": true,
           "subunitcolor": "white"
          },
          "hoverlabel": {
           "align": "left"
          },
          "hovermode": "closest",
          "mapbox": {
           "style": "light"
          },
          "paper_bgcolor": "white",
          "plot_bgcolor": "#E5ECF6",
          "polar": {
           "angularaxis": {
            "gridcolor": "white",
            "linecolor": "white",
            "ticks": ""
           },
           "bgcolor": "#E5ECF6",
           "radialaxis": {
            "gridcolor": "white",
            "linecolor": "white",
            "ticks": ""
           }
          },
          "scene": {
           "xaxis": {
            "backgroundcolor": "#E5ECF6",
            "gridcolor": "white",
            "gridwidth": 2,
            "linecolor": "white",
            "showbackground": true,
            "ticks": "",
            "zerolinecolor": "white"
           },
           "yaxis": {
            "backgroundcolor": "#E5ECF6",
            "gridcolor": "white",
            "gridwidth": 2,
            "linecolor": "white",
            "showbackground": true,
            "ticks": "",
            "zerolinecolor": "white"
           },
           "zaxis": {
            "backgroundcolor": "#E5ECF6",
            "gridcolor": "white",
            "gridwidth": 2,
            "linecolor": "white",
            "showbackground": true,
            "ticks": "",
            "zerolinecolor": "white"
           }
          },
          "shapedefaults": {
           "line": {
            "color": "#2a3f5f"
           }
          },
          "ternary": {
           "aaxis": {
            "gridcolor": "white",
            "linecolor": "white",
            "ticks": ""
           },
           "baxis": {
            "gridcolor": "white",
            "linecolor": "white",
            "ticks": ""
           },
           "bgcolor": "#E5ECF6",
           "caxis": {
            "gridcolor": "white",
            "linecolor": "white",
            "ticks": ""
           }
          },
          "title": {
           "x": 0.05
          },
          "xaxis": {
           "automargin": true,
           "gridcolor": "white",
           "linecolor": "white",
           "ticks": "",
           "title": {
            "standoff": 15
           },
           "zerolinecolor": "white",
           "zerolinewidth": 2
          },
          "yaxis": {
           "automargin": true,
           "gridcolor": "white",
           "linecolor": "white",
           "ticks": "",
           "title": {
            "standoff": 15
           },
           "zerolinecolor": "white",
           "zerolinewidth": 2
          }
         }
        },
        "xaxis": {
         "title": {
          "text": "frame index"
         }
        },
        "yaxis": {
         "title": {
          "text": "# labeled vehicles"
         }
        }
       }
      }
     },
     "metadata": {},
     "output_type": "display_data"
    }
   ],
   "source": [
    "# Number of labeled vehicles per frame.\n",
    "label_counts = []\n",
    "custom_data = []\n",
    "for labels, labels_data in labels_loader.load_items():\n",
    "    label_counts.append(len(labels))\n",
    "    custom_data.append(labels_data['image_file_name'][21:-4])\n",
    "go.Figure(\n",
    "    go.Bar(\n",
    "        y=label_counts,\n",
    "        customdata=custom_data,\n",
    "        hovertemplate='index: %{x}<br>#vehicles: %{y}<br>frame: %{customdata}',\n",
    "    ),\n",
    "    layout=dict(xaxis_title='frame index', yaxis_title='# labeled vehicles'),\n",
    ")\n"
   ]
  },
  {
   "cell_type": "code",
   "execution_count": 4,
   "metadata": {},
   "outputs": [
    {
     "name": "stdout",
     "output_type": "stream",
     "text": [
      "CAR (8158)\n",
      "  length: Ø 4.60 (2.95 ~> 5.53)\n",
      "  width : Ø 1.94 (1.53 ~> 2.21)\n",
      "  height: Ø 1.46 (1.19 ~> 1.85)\n",
      "\n",
      "VAN (1174)\n",
      "  length: Ø 5.74 (3.80 ~> 8.36)\n",
      "  width : Ø 2.06 (1.64 ~> 2.59)\n",
      "  height: Ø 2.17 (1.51 ~> 3.08)\n",
      "\n",
      "TRAILER (1048)\n",
      "  length: Ø 11.81 (3.04 ~> 19.40)\n",
      "  width : Ø 2.52 (1.67 ~> 3.03)\n",
      "  height: Ø 3.59 (1.35 ~> 4.28)\n",
      "\n",
      "TRUCK (853)\n",
      "  length: Ø 5.81 (1.97 ~> 16.11)\n",
      "  width : Ø 2.51 (1.98 ~> 2.84)\n",
      "  height: Ø 3.56 (2.00 ~> 4.08)\n",
      "\n",
      "SPECIAL_VEHICLE (9)\n",
      "  length: Ø 7.28 (3.46 ~> 10.28)\n",
      "  width : Ø 2.36 (2.00 ~> 2.75)\n",
      "  height: Ø 2.87 (1.52 ~> 3.63)\n",
      "\n",
      "BUS (59)\n",
      "  length: Ø 13.58 (8.16 ~> 18.77)\n",
      "  width : Ø 2.61 (2.42 ~> 2.94)\n",
      "  height: Ø 3.35 (2.97 ~> 3.96)\n",
      "\n",
      "BICYCLE (1)\n",
      "  length: Ø 1.42 (1.42 ~> 1.42)\n",
      "  width : Ø 0.48 (0.48 ~> 0.48)\n",
      "  height: Ø 1.24 (1.24 ~> 1.24)\n",
      "\n",
      "MOTORCYCLE (33)\n",
      "  length: Ø 2.32 (1.65 ~> 4.79)\n",
      "  width : Ø 0.75 (0.50 ~> 1.76)\n",
      "  height: Ø 1.64 (1.50 ~> 1.91)\n",
      "\n",
      "PEDESTRIAN (20)\n",
      "  length: Ø 0.56 (0.49 ~> 1.52)\n",
      "  width : Ø 0.50 (0.50 ~> 0.50)\n",
      "  height: Ø 1.75 (1.73 ~> 1.79)\n",
      "\n"
     ]
    }
   ],
   "source": [
    "# Calculate dimensions stats and count per category.\n",
    "\n",
    "categories = {}\n",
    "for labels, _ in labels_loader.load_items():\n",
    "    for label in labels:\n",
    "        if label.category not in categories:\n",
    "            categories[label.category] = []\n",
    "        categories[label.category].append(label.dimensions)\n",
    "\n",
    "max_characters = max(len(key) for key in categories.keys())\n",
    "\n",
    "for category, dimensions in categories.items():\n",
    "    dimensions = np.array(dimensions)\n",
    "    means = dimensions.mean(0)\n",
    "    ranges = np.percentile(dimensions, [1, 99], axis=0).T.tolist()\n",
    "    print(f'{category} ({dimensions.shape[0]})')\n",
    "    for i, s in enumerate(('length', 'width ', 'height')):\n",
    "        print(f'  {s}: Ø {means[i]:.2f} ({ranges[i][0]:.2f} ~> {ranges[i][1]:.2f})')\n",
    "    print()"
   ]
  },
  {
   "cell_type": "code",
   "execution_count": null,
   "metadata": {},
   "outputs": [],
   "source": []
  }
 ],
 "metadata": {
  "interpreter": {
   "hash": "fa9c5a8f1f4deddb2ec8235298079442a1fa1dd657a205c118aef888c2110fcf"
  },
  "kernelspec": {
   "display_name": "Python 3.9.0 64-bit ('3.9.0': pyenv)",
   "language": "python",
   "name": "python3"
  },
  "language_info": {
   "codemirror_mode": {
    "name": "ipython",
    "version": 3
   },
   "file_extension": ".py",
   "mimetype": "text/x-python",
   "name": "python",
   "nbconvert_exporter": "python",
   "pygments_lexer": "ipython3",
   "version": "3.9.0"
  },
  "orig_nbformat": 4
 },
 "nbformat": 4,
 "nbformat_minor": 2
}
