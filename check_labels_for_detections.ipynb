{
 "cells": [
  {
   "cell_type": "markdown",
   "metadata": {},
   "source": [
    "Check how many labeled vehicles have a detection mask. Additonal masks are ignored.\n",
    "\n",
    "Example: \n",
    "10 labeled vehicles, 20 masks, 9 labeled vehicles have a corresponding mask\n",
    "=> 90%"
   ]
  },
  {
   "cell_type": "code",
   "execution_count": 1,
   "metadata": {},
   "outputs": [],
   "source": [
    "import numpy as np\n",
    "import plotly.graph_objects as go\n",
    "\n",
    "import detection\n",
    "import detection_loader\n",
    "import providentia_camera_dataset as pcd"
   ]
  },
  {
   "cell_type": "code",
   "execution_count": 8,
   "metadata": {},
   "outputs": [],
   "source": [
    "scores = []\n",
    "for i, (detections, label) in enumerate(\n",
    "    zip(detection_loader.load_detection_lists(), pcd.load_labels())\n",
    "):\n",
    "    if not label['labels']:\n",
    "        scores.append(1)\n",
    "        continue\n",
    "\n",
    "    vehicle_detections = [d for d in detections if d.label in [2, 5, 7]]\n",
    "\n",
    "    mask = detection.merge_masks(vehicle_detections, (1200, 1920))\n",
    "\n",
    "    corners = [\n",
    "        [\n",
    "            l['box3d_projected']['bottom_left_back'],\n",
    "            l['box3d_projected']['top_right_front'],\n",
    "        ]\n",
    "        for l in label['labels']\n",
    "    ]\n",
    "    centers = np.array(corners).mean(axis=1) * np.array([2 * 1920, 2 * 1200])\n",
    "    cx, cy = centers.round().astype(int).T\n",
    "\n",
    "    cx[cx >= 1920] = 1910\n",
    "    cy[cy >= 1200] = 1190\n",
    "\n",
    "    scores.append(mask[cy, cx].mean())\n"
   ]
  },
  {
   "cell_type": "code",
   "execution_count": 9,
   "metadata": {},
   "outputs": [
    {
     "data": {
      "application/vnd.plotly.v1+json": {
       "config": {
        "plotlyServerURL": "https://plot.ly"
       },
       "data": [
        {
         "type": "histogram",
         "x": [
          1,
          1,
          1,
          1,
          1,
          1,
          1,
          1,
          1,
          1,
          1,
          0.875,
          1,
          1,
          1,
          1,
          1,
          1,
          0.8181818181818182,
          1,
          1,
          1,
          0.9523809523809523,
          1,
          1,
          1,
          1,
          0.9230769230769231,
          1,
          1,
          1,
          1,
          0.8823529411764706,
          1,
          1,
          1,
          1,
          1,
          1,
          1,
          0.8571428571428571,
          1,
          1,
          1,
          1,
          1,
          1,
          1,
          1,
          0.9444444444444444,
          1,
          0.9411764705882353,
          0.9629629629629629,
          0.9545454545454546,
          0.9,
          0.9545454545454546,
          0.9444444444444444,
          0.9411764705882353,
          1,
          1,
          0.975,
          0.9534883720930233,
          1,
          0.9111111111111111,
          0.9795918367346939,
          0.8727272727272727,
          0.9555555555555556,
          0.96875,
          1,
          0.9444444444444444,
          0.9285714285714286,
          0.9705882352941176,
          0.9210526315789473,
          0.96875,
          0.9090909090909091,
          1,
          0.9473684210526315,
          0.8888888888888888,
          0.9230769230769231,
          0.9333333333333333,
          0.975609756097561,
          0.7857142857142857,
          0.9069767441860465,
          1,
          0.967741935483871,
          0.9333333333333333,
          0.7916666666666666,
          0.8714285714285714,
          0.8888888888888888,
          0.9130434782608695,
          1,
          0.8863636363636364,
          0.9375,
          0.8048780487804879,
          0.9743589743589743,
          0.875,
          0.9545454545454546,
          0.9,
          0.8958333333333334,
          0.8846153846153846,
          0.9423076923076923,
          1,
          1,
          0.9302325581395349,
          0.8823529411764706,
          0.8870967741935484,
          0.9302325581395349,
          0.9069767441860465,
          0.8723404255319149,
          0.8604651162790697,
          0.8918918918918919,
          0.9459459459459459,
          0.8367346938775511,
          0.9423076923076923,
          0.9,
          0.8604651162790697,
          0.96,
          0.9285714285714286,
          0.9761904761904762,
          0.8,
          1,
          0.75,
          0.8666666666666667,
          0.9285714285714286,
          0.75,
          1,
          0.5,
          0.8333333333333334,
          0.9285714285714286,
          1,
          0.7,
          0.75,
          0.9166666666666666,
          0.625,
          0.8461538461538461,
          0.8571428571428571,
          0.875,
          0.6666666666666666,
          1,
          1,
          0.7142857142857143,
          1,
          1,
          0.8333333333333334,
          0.8333333333333334,
          0.8,
          0.9285714285714286,
          0.8888888888888888,
          1,
          0.6666666666666666,
          0.5714285714285714,
          0.75,
          0.9,
          0.6666666666666666,
          1,
          0.6,
          1,
          0.5,
          0.8,
          1,
          1,
          0.9444444444444444,
          0.75,
          1,
          0.9090909090909091,
          0.5,
          0.9,
          1,
          0.875,
          1,
          1,
          0.875,
          0.9166666666666666,
          1,
          1,
          1,
          1,
          1,
          1,
          0.8888888888888888,
          0.896551724137931,
          0.9230769230769231,
          1,
          1,
          1,
          1,
          1,
          1,
          1,
          0.9375,
          1,
          1,
          0.95,
          0.95,
          1,
          1,
          0.9629629629629629,
          1,
          1,
          1,
          0.9629629629629629,
          1,
          1,
          0.9411764705882353,
          1,
          0.9473684210526315,
          1,
          1,
          0.9375,
          1,
          1,
          1,
          1,
          1,
          1,
          1,
          1,
          1,
          1,
          1,
          1,
          0.9166666666666666,
          1,
          1,
          1,
          1,
          1,
          1,
          1,
          1,
          1,
          1,
          1,
          1,
          1,
          0.8888888888888888,
          1,
          1,
          1,
          1,
          1,
          1,
          1,
          1,
          1,
          1,
          1,
          1,
          1,
          1,
          1,
          1,
          1,
          1,
          1,
          1,
          1,
          1,
          1,
          1,
          1,
          1,
          1,
          1,
          1,
          1,
          1,
          1,
          1,
          1,
          1,
          1,
          1,
          1,
          1,
          1,
          1,
          1,
          1,
          1,
          1,
          1,
          1,
          1,
          1,
          1,
          1,
          1,
          1,
          1,
          1,
          1,
          1,
          1,
          1,
          1,
          1,
          1,
          1,
          1,
          1,
          1,
          1,
          1,
          1,
          1,
          1,
          1,
          1,
          1,
          1,
          1,
          0.9473684210526315,
          0.9333333333333333,
          1,
          1,
          1,
          1,
          1,
          0.95,
          1,
          0.9473684210526315,
          1,
          1,
          1,
          1,
          1,
          0.9655172413793104,
          1,
          1,
          1,
          1,
          0.92,
          1,
          1,
          1,
          1,
          1,
          1,
          1,
          1,
          1,
          1,
          1,
          1,
          0.92,
          1,
          1,
          0.9545454545454546,
          1,
          1,
          0.9285714285714286,
          1,
          1,
          1,
          1,
          1,
          1,
          1,
          1,
          1,
          1,
          1,
          1,
          1,
          1,
          1,
          1,
          1,
          1,
          1,
          1,
          1,
          1,
          1,
          1,
          1,
          1,
          1,
          1,
          1,
          1,
          1,
          1,
          1,
          1,
          1,
          1,
          1,
          1,
          1,
          1,
          1,
          1,
          1,
          1,
          1,
          1,
          1,
          1,
          1,
          1,
          1,
          1,
          1,
          1,
          1,
          1,
          1,
          1,
          1,
          1,
          1,
          1,
          1,
          1,
          1,
          1,
          1,
          1,
          1,
          0.8,
          1,
          1,
          1,
          1,
          0.9166666666666666,
          1,
          1,
          1,
          1,
          1,
          1,
          1,
          0.9285714285714286,
          0.9285714285714286,
          1,
          1,
          1,
          1,
          1,
          1,
          1,
          1,
          1,
          1,
          1,
          1,
          0.9333333333333333,
          0.9090909090909091,
          1,
          1,
          0.9444444444444444,
          0.9230769230769231,
          0.9230769230769231,
          1,
          1,
          1,
          1,
          1,
          1,
          0.9,
          0.8333333333333334,
          1,
          1,
          1,
          1,
          0.8181818181818182,
          1,
          1,
          1,
          1,
          0.9090909090909091,
          1,
          1,
          0.9090909090909091,
          1,
          1,
          1,
          0.9411764705882353,
          0.8,
          1,
          1,
          1,
          1,
          1,
          1,
          1,
          1,
          1,
          1,
          1,
          1,
          1,
          1,
          1,
          1,
          1,
          1,
          1,
          1,
          1,
          1,
          1,
          1,
          1,
          1,
          1,
          1,
          1,
          1,
          0.8888888888888888,
          1,
          1,
          1,
          1,
          1,
          1,
          1,
          1,
          1,
          1,
          1,
          1,
          1,
          0.9230769230769231,
          1,
          1,
          1,
          1,
          1,
          1,
          1,
          1,
          1,
          1,
          1,
          1,
          1,
          1,
          1,
          1,
          1,
          0.9534883720930233,
          1,
          1,
          0.975609756097561,
          0.9736842105263158,
          1,
          1,
          1,
          1,
          1,
          1,
          1,
          0.972972972972973,
          1,
          0.9459459459459459,
          1,
          1,
          0.9722222222222222,
          1,
          1,
          1,
          1,
          1,
          1,
          1,
          1,
          1,
          1,
          0.41379310344827586,
          0.4444444444444444,
          1,
          1,
          1,
          1,
          0.9655172413793104,
          1,
          0.9696969696969697,
          1,
          1,
          0.9428571428571428,
          1,
          1,
          0.96875,
          0.96875,
          1,
          0.96875,
          1,
          0.9666666666666667,
          1,
          1,
          1,
          1,
          0.9722222222222222,
          0.9714285714285714,
          0.9230769230769231,
          1,
          1,
          0.9444444444444444,
          0.42105263157894735,
          0.5,
          1,
          1,
          1,
          0.55,
          0.47368421052631576,
          1,
          1,
          1,
          1,
          1,
          1,
          1,
          1,
          1,
          1,
          1,
          1,
          1,
          1,
          1,
          1,
          1,
          1,
          1,
          1,
          1,
          1,
          1,
          1,
          1,
          1,
          0.9375,
          1,
          1,
          1,
          1,
          1,
          1,
          1,
          1,
          1,
          1,
          1,
          1,
          1,
          0.9444444444444444,
          1,
          0.9444444444444444,
          1,
          1,
          1,
          1,
          1,
          1,
          1,
          1,
          1,
          1,
          1,
          1,
          1,
          1,
          1,
          1,
          1,
          1,
          1,
          1,
          1,
          1,
          0.9523809523809523,
          1,
          0.9411764705882353,
          1,
          1,
          1,
          1,
          1,
          1,
          1,
          1,
          1,
          0.9545454545454546,
          1,
          1,
          1,
          1,
          1,
          1,
          0.9310344827586207,
          1,
          0.9666666666666667,
          1,
          0.9411764705882353,
          1,
          0.9705882352941176,
          1,
          0.9166666666666666,
          1,
          1,
          0.9615384615384616,
          1,
          1,
          1,
          1,
          1,
          1,
          1,
          0.9666666666666667,
          1,
          1,
          1,
          0.9696969696969697,
          1,
          0.9545454545454546,
          1,
          1,
          1,
          1,
          1,
          1,
          1,
          0.9444444444444444,
          1,
          1,
          1,
          1,
          1,
          1,
          1,
          1,
          1,
          1,
          1,
          1,
          1,
          1,
          1,
          1,
          1,
          1,
          1,
          1,
          1,
          1,
          1,
          1,
          1,
          1,
          1,
          0.9375,
          0.9473684210526315,
          1,
          0.9230769230769231,
          1,
          1,
          1,
          0.9375,
          0.9333333333333333,
          1,
          1,
          0.8888888888888888,
          0.967741935483871,
          1,
          1,
          0.9565217391304348,
          0.9310344827586207,
          0.9565217391304348,
          0.9565217391304348,
          0.9583333333333334,
          0.9333333333333333,
          1,
          0.9655172413793104,
          0.8947368421052632,
          0.9166666666666666,
          0.7727272727272727,
          0.9047619047619048,
          1,
          0.9090909090909091,
          1,
          1,
          0.8235294117647058,
          0.8636363636363636,
          1,
          0.96,
          0.88,
          0.88,
          1,
          0.7241379310344828,
          0.8,
          0.7307692307692307,
          0.6923076923076923,
          0.6896551724137931,
          0.7142857142857143,
          0.7777777777777778,
          0.7307692307692307,
          0.84,
          0.8,
          0.8260869565217391,
          0.6956521739130435,
          0.7727272727272727,
          0.85,
          0.8571428571428571,
          0.76,
          0.8064516129032258,
          0.7692307692307693
         ],
         "xbins": {
          "end": 1.01,
          "size": 0.01,
          "start": 0
         }
        }
       ],
       "layout": {
        "template": {
         "data": {
          "bar": [
           {
            "error_x": {
             "color": "#2a3f5f"
            },
            "error_y": {
             "color": "#2a3f5f"
            },
            "marker": {
             "line": {
              "color": "#E5ECF6",
              "width": 0.5
             }
            },
            "type": "bar"
           }
          ],
          "barpolar": [
           {
            "marker": {
             "line": {
              "color": "#E5ECF6",
              "width": 0.5
             }
            },
            "type": "barpolar"
           }
          ],
          "carpet": [
           {
            "aaxis": {
             "endlinecolor": "#2a3f5f",
             "gridcolor": "white",
             "linecolor": "white",
             "minorgridcolor": "white",
             "startlinecolor": "#2a3f5f"
            },
            "baxis": {
             "endlinecolor": "#2a3f5f",
             "gridcolor": "white",
             "linecolor": "white",
             "minorgridcolor": "white",
             "startlinecolor": "#2a3f5f"
            },
            "type": "carpet"
           }
          ],
          "choropleth": [
           {
            "colorbar": {
             "outlinewidth": 0,
             "ticks": ""
            },
            "type": "choropleth"
           }
          ],
          "contour": [
           {
            "colorbar": {
             "outlinewidth": 0,
             "ticks": ""
            },
            "colorscale": [
             [
              0,
              "#0d0887"
             ],
             [
              0.1111111111111111,
              "#46039f"
             ],
             [
              0.2222222222222222,
              "#7201a8"
             ],
             [
              0.3333333333333333,
              "#9c179e"
             ],
             [
              0.4444444444444444,
              "#bd3786"
             ],
             [
              0.5555555555555556,
              "#d8576b"
             ],
             [
              0.6666666666666666,
              "#ed7953"
             ],
             [
              0.7777777777777778,
              "#fb9f3a"
             ],
             [
              0.8888888888888888,
              "#fdca26"
             ],
             [
              1,
              "#f0f921"
             ]
            ],
            "type": "contour"
           }
          ],
          "contourcarpet": [
           {
            "colorbar": {
             "outlinewidth": 0,
             "ticks": ""
            },
            "type": "contourcarpet"
           }
          ],
          "heatmap": [
           {
            "colorbar": {
             "outlinewidth": 0,
             "ticks": ""
            },
            "colorscale": [
             [
              0,
              "#0d0887"
             ],
             [
              0.1111111111111111,
              "#46039f"
             ],
             [
              0.2222222222222222,
              "#7201a8"
             ],
             [
              0.3333333333333333,
              "#9c179e"
             ],
             [
              0.4444444444444444,
              "#bd3786"
             ],
             [
              0.5555555555555556,
              "#d8576b"
             ],
             [
              0.6666666666666666,
              "#ed7953"
             ],
             [
              0.7777777777777778,
              "#fb9f3a"
             ],
             [
              0.8888888888888888,
              "#fdca26"
             ],
             [
              1,
              "#f0f921"
             ]
            ],
            "type": "heatmap"
           }
          ],
          "heatmapgl": [
           {
            "colorbar": {
             "outlinewidth": 0,
             "ticks": ""
            },
            "colorscale": [
             [
              0,
              "#0d0887"
             ],
             [
              0.1111111111111111,
              "#46039f"
             ],
             [
              0.2222222222222222,
              "#7201a8"
             ],
             [
              0.3333333333333333,
              "#9c179e"
             ],
             [
              0.4444444444444444,
              "#bd3786"
             ],
             [
              0.5555555555555556,
              "#d8576b"
             ],
             [
              0.6666666666666666,
              "#ed7953"
             ],
             [
              0.7777777777777778,
              "#fb9f3a"
             ],
             [
              0.8888888888888888,
              "#fdca26"
             ],
             [
              1,
              "#f0f921"
             ]
            ],
            "type": "heatmapgl"
           }
          ],
          "histogram": [
           {
            "marker": {
             "colorbar": {
              "outlinewidth": 0,
              "ticks": ""
             }
            },
            "type": "histogram"
           }
          ],
          "histogram2d": [
           {
            "colorbar": {
             "outlinewidth": 0,
             "ticks": ""
            },
            "colorscale": [
             [
              0,
              "#0d0887"
             ],
             [
              0.1111111111111111,
              "#46039f"
             ],
             [
              0.2222222222222222,
              "#7201a8"
             ],
             [
              0.3333333333333333,
              "#9c179e"
             ],
             [
              0.4444444444444444,
              "#bd3786"
             ],
             [
              0.5555555555555556,
              "#d8576b"
             ],
             [
              0.6666666666666666,
              "#ed7953"
             ],
             [
              0.7777777777777778,
              "#fb9f3a"
             ],
             [
              0.8888888888888888,
              "#fdca26"
             ],
             [
              1,
              "#f0f921"
             ]
            ],
            "type": "histogram2d"
           }
          ],
          "histogram2dcontour": [
           {
            "colorbar": {
             "outlinewidth": 0,
             "ticks": ""
            },
            "colorscale": [
             [
              0,
              "#0d0887"
             ],
             [
              0.1111111111111111,
              "#46039f"
             ],
             [
              0.2222222222222222,
              "#7201a8"
             ],
             [
              0.3333333333333333,
              "#9c179e"
             ],
             [
              0.4444444444444444,
              "#bd3786"
             ],
             [
              0.5555555555555556,
              "#d8576b"
             ],
             [
              0.6666666666666666,
              "#ed7953"
             ],
             [
              0.7777777777777778,
              "#fb9f3a"
             ],
             [
              0.8888888888888888,
              "#fdca26"
             ],
             [
              1,
              "#f0f921"
             ]
            ],
            "type": "histogram2dcontour"
           }
          ],
          "mesh3d": [
           {
            "colorbar": {
             "outlinewidth": 0,
             "ticks": ""
            },
            "type": "mesh3d"
           }
          ],
          "parcoords": [
           {
            "line": {
             "colorbar": {
              "outlinewidth": 0,
              "ticks": ""
             }
            },
            "type": "parcoords"
           }
          ],
          "pie": [
           {
            "automargin": true,
            "type": "pie"
           }
          ],
          "scatter": [
           {
            "marker": {
             "colorbar": {
              "outlinewidth": 0,
              "ticks": ""
             }
            },
            "type": "scatter"
           }
          ],
          "scatter3d": [
           {
            "line": {
             "colorbar": {
              "outlinewidth": 0,
              "ticks": ""
             }
            },
            "marker": {
             "colorbar": {
              "outlinewidth": 0,
              "ticks": ""
             }
            },
            "type": "scatter3d"
           }
          ],
          "scattercarpet": [
           {
            "marker": {
             "colorbar": {
              "outlinewidth": 0,
              "ticks": ""
             }
            },
            "type": "scattercarpet"
           }
          ],
          "scattergeo": [
           {
            "marker": {
             "colorbar": {
              "outlinewidth": 0,
              "ticks": ""
             }
            },
            "type": "scattergeo"
           }
          ],
          "scattergl": [
           {
            "marker": {
             "colorbar": {
              "outlinewidth": 0,
              "ticks": ""
             }
            },
            "type": "scattergl"
           }
          ],
          "scattermapbox": [
           {
            "marker": {
             "colorbar": {
              "outlinewidth": 0,
              "ticks": ""
             }
            },
            "type": "scattermapbox"
           }
          ],
          "scatterpolar": [
           {
            "marker": {
             "colorbar": {
              "outlinewidth": 0,
              "ticks": ""
             }
            },
            "type": "scatterpolar"
           }
          ],
          "scatterpolargl": [
           {
            "marker": {
             "colorbar": {
              "outlinewidth": 0,
              "ticks": ""
             }
            },
            "type": "scatterpolargl"
           }
          ],
          "scatterternary": [
           {
            "marker": {
             "colorbar": {
              "outlinewidth": 0,
              "ticks": ""
             }
            },
            "type": "scatterternary"
           }
          ],
          "surface": [
           {
            "colorbar": {
             "outlinewidth": 0,
             "ticks": ""
            },
            "colorscale": [
             [
              0,
              "#0d0887"
             ],
             [
              0.1111111111111111,
              "#46039f"
             ],
             [
              0.2222222222222222,
              "#7201a8"
             ],
             [
              0.3333333333333333,
              "#9c179e"
             ],
             [
              0.4444444444444444,
              "#bd3786"
             ],
             [
              0.5555555555555556,
              "#d8576b"
             ],
             [
              0.6666666666666666,
              "#ed7953"
             ],
             [
              0.7777777777777778,
              "#fb9f3a"
             ],
             [
              0.8888888888888888,
              "#fdca26"
             ],
             [
              1,
              "#f0f921"
             ]
            ],
            "type": "surface"
           }
          ],
          "table": [
           {
            "cells": {
             "fill": {
              "color": "#EBF0F8"
             },
             "line": {
              "color": "white"
             }
            },
            "header": {
             "fill": {
              "color": "#C8D4E3"
             },
             "line": {
              "color": "white"
             }
            },
            "type": "table"
           }
          ]
         },
         "layout": {
          "annotationdefaults": {
           "arrowcolor": "#2a3f5f",
           "arrowhead": 0,
           "arrowwidth": 1
          },
          "autotypenumbers": "strict",
          "coloraxis": {
           "colorbar": {
            "outlinewidth": 0,
            "ticks": ""
           }
          },
          "colorscale": {
           "diverging": [
            [
             0,
             "#8e0152"
            ],
            [
             0.1,
             "#c51b7d"
            ],
            [
             0.2,
             "#de77ae"
            ],
            [
             0.3,
             "#f1b6da"
            ],
            [
             0.4,
             "#fde0ef"
            ],
            [
             0.5,
             "#f7f7f7"
            ],
            [
             0.6,
             "#e6f5d0"
            ],
            [
             0.7,
             "#b8e186"
            ],
            [
             0.8,
             "#7fbc41"
            ],
            [
             0.9,
             "#4d9221"
            ],
            [
             1,
             "#276419"
            ]
           ],
           "sequential": [
            [
             0,
             "#0d0887"
            ],
            [
             0.1111111111111111,
             "#46039f"
            ],
            [
             0.2222222222222222,
             "#7201a8"
            ],
            [
             0.3333333333333333,
             "#9c179e"
            ],
            [
             0.4444444444444444,
             "#bd3786"
            ],
            [
             0.5555555555555556,
             "#d8576b"
            ],
            [
             0.6666666666666666,
             "#ed7953"
            ],
            [
             0.7777777777777778,
             "#fb9f3a"
            ],
            [
             0.8888888888888888,
             "#fdca26"
            ],
            [
             1,
             "#f0f921"
            ]
           ],
           "sequentialminus": [
            [
             0,
             "#0d0887"
            ],
            [
             0.1111111111111111,
             "#46039f"
            ],
            [
             0.2222222222222222,
             "#7201a8"
            ],
            [
             0.3333333333333333,
             "#9c179e"
            ],
            [
             0.4444444444444444,
             "#bd3786"
            ],
            [
             0.5555555555555556,
             "#d8576b"
            ],
            [
             0.6666666666666666,
             "#ed7953"
            ],
            [
             0.7777777777777778,
             "#fb9f3a"
            ],
            [
             0.8888888888888888,
             "#fdca26"
            ],
            [
             1,
             "#f0f921"
            ]
           ]
          },
          "colorway": [
           "#636efa",
           "#EF553B",
           "#00cc96",
           "#ab63fa",
           "#FFA15A",
           "#19d3f3",
           "#FF6692",
           "#B6E880",
           "#FF97FF",
           "#FECB52"
          ],
          "font": {
           "color": "#2a3f5f"
          },
          "geo": {
           "bgcolor": "white",
           "lakecolor": "white",
           "landcolor": "#E5ECF6",
           "showlakes": true,
           "showland": true,
           "subunitcolor": "white"
          },
          "hoverlabel": {
           "align": "left"
          },
          "hovermode": "closest",
          "mapbox": {
           "style": "light"
          },
          "paper_bgcolor": "white",
          "plot_bgcolor": "#E5ECF6",
          "polar": {
           "angularaxis": {
            "gridcolor": "white",
            "linecolor": "white",
            "ticks": ""
           },
           "bgcolor": "#E5ECF6",
           "radialaxis": {
            "gridcolor": "white",
            "linecolor": "white",
            "ticks": ""
           }
          },
          "scene": {
           "xaxis": {
            "backgroundcolor": "#E5ECF6",
            "gridcolor": "white",
            "gridwidth": 2,
            "linecolor": "white",
            "showbackground": true,
            "ticks": "",
            "zerolinecolor": "white"
           },
           "yaxis": {
            "backgroundcolor": "#E5ECF6",
            "gridcolor": "white",
            "gridwidth": 2,
            "linecolor": "white",
            "showbackground": true,
            "ticks": "",
            "zerolinecolor": "white"
           },
           "zaxis": {
            "backgroundcolor": "#E5ECF6",
            "gridcolor": "white",
            "gridwidth": 2,
            "linecolor": "white",
            "showbackground": true,
            "ticks": "",
            "zerolinecolor": "white"
           }
          },
          "shapedefaults": {
           "line": {
            "color": "#2a3f5f"
           }
          },
          "ternary": {
           "aaxis": {
            "gridcolor": "white",
            "linecolor": "white",
            "ticks": ""
           },
           "baxis": {
            "gridcolor": "white",
            "linecolor": "white",
            "ticks": ""
           },
           "bgcolor": "#E5ECF6",
           "caxis": {
            "gridcolor": "white",
            "linecolor": "white",
            "ticks": ""
           }
          },
          "title": {
           "x": 0.05
          },
          "xaxis": {
           "automargin": true,
           "gridcolor": "white",
           "linecolor": "white",
           "ticks": "",
           "title": {
            "standoff": 15
           },
           "zerolinecolor": "white",
           "zerolinewidth": 2
          },
          "yaxis": {
           "automargin": true,
           "gridcolor": "white",
           "linecolor": "white",
           "ticks": "",
           "title": {
            "standoff": 15
           },
           "zerolinecolor": "white",
           "zerolinewidth": 2
          }
         }
        }
       }
      }
     },
     "metadata": {},
     "output_type": "display_data"
    }
   ],
   "source": [
    "go.Figure(go.Histogram(x=scores, xbins=dict(start=0, end=1.01, size=1 / 100)))"
   ]
  }
 ],
 "metadata": {
  "interpreter": {
   "hash": "fa9c5a8f1f4deddb2ec8235298079442a1fa1dd657a205c118aef888c2110fcf"
  },
  "kernelspec": {
   "display_name": "Python 3.9.0 64-bit ('3.9.0': pyenv)",
   "language": "python",
   "name": "python3"
  },
  "language_info": {
   "codemirror_mode": {
    "name": "ipython",
    "version": 3
   },
   "file_extension": ".py",
   "mimetype": "text/x-python",
   "name": "python",
   "nbconvert_exporter": "python",
   "pygments_lexer": "ipython3",
   "version": "3.9.0"
  },
  "orig_nbformat": 4
 },
 "nbformat": 4,
 "nbformat_minor": 2
}
