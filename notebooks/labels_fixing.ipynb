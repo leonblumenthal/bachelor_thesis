{
 "cells": [
  {
   "cell_type": "code",
   "execution_count": 10,
   "metadata": {},
   "outputs": [],
   "source": [
    "# Allows import from parent directory.\n",
    "import sys\n",
    "\n",
    "sys.path.append('..')\n",
    "\n",
    "import json\n",
    "import os\n",
    "\n",
    "import numpy as np\n",
    "from src.providentia_utils import match_perspective, parse_perspectives\n"
   ]
  },
  {
   "cell_type": "code",
   "execution_count": 46,
   "metadata": {},
   "outputs": [],
   "source": [
    "# Fix labels with calculating box3d from box3d_projected and perspective.\n",
    "\n",
    "labels_dir = '../data/r0_a9_dataset/labels'\n",
    "fixed_labels_dir = '../data/r0_a9_dataset/labels_fixed'\n",
    "perspectives_dir = '../data/profusion_r0_dataset/r0_s1/05_calibration'\n",
    "\n",
    "perspectives = parse_perspectives(perspectives_dir)\n",
    "\n",
    "os.makedirs(fixed_labels_dir, exist_ok=True)\n",
    "\n",
    "for name in os.listdir(labels_dir):\n",
    "    with open(os.path.join(labels_dir, name)) as f:\n",
    "        data = json.load(f)\n",
    "\n",
    "    perspective = match_perspective(perspectives, data)\n",
    "\n",
    "    for label in data['labels']:\n",
    "        image_points = np.array(list(label['box3d_projected'].values())[:4]).T\n",
    "        image_points[0] *= 1920\n",
    "        image_points[1] *= 1200\n",
    "        ground_points = perspective.project_to_ground(image_points)\n",
    "\n",
    "        x, y = ground_points[:2, :4].mean(1)\n",
    "        length = np.abs((ground_points[0, [0, 3]] - ground_points[0, [1, 2]]).mean())\n",
    "        width = np.abs((ground_points[1, [0, 1]] - ground_points[1, [2, 3]]).mean())\n",
    "\n",
    "        label['box3d']['location'].update(dict(x=x, y=y))\n",
    "        label['box3d']['dimension'].update(dict(length=length, width=width))\n",
    "\n",
    "    with open(os.path.join(fixed_labels_dir, name), 'w') as f:\n",
    "        json.dump(data, f)\n"
   ]
  },
  {
   "cell_type": "code",
   "execution_count": null,
   "metadata": {},
   "outputs": [],
   "source": []
  }
 ],
 "metadata": {
  "interpreter": {
   "hash": "fa9c5a8f1f4deddb2ec8235298079442a1fa1dd657a205c118aef888c2110fcf"
  },
  "kernelspec": {
   "display_name": "Python 3.9.0 64-bit ('3.9.0')",
   "language": "python",
   "name": "python3"
  },
  "language_info": {
   "codemirror_mode": {
    "name": "ipython",
    "version": 3
   },
   "file_extension": ".py",
   "mimetype": "text/x-python",
   "name": "python",
   "nbconvert_exporter": "python",
   "pygments_lexer": "ipython3",
   "version": "3.9.0"
  },
  "orig_nbformat": 4
 },
 "nbformat": 4,
 "nbformat_minor": 2
}
