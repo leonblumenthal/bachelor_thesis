{
 "cells": [
  {
   "cell_type": "code",
   "execution_count": 1,
   "metadata": {},
   "outputs": [],
   "source": [
    "# Allows import from parent directory.\n",
    "import sys; sys.path.append('..')\n",
    "\n",
    "import os\n",
    "from typing import Dict, List, Tuple\n",
    "\n",
    "import cv2\n",
    "import numpy as np\n",
    "import plotly.express as px\n",
    "import src.visualization_utils as viz\n",
    "from src.approaches.fixed_angle import create_predictions\n",
    "from src.loaders import DetectionsLoader, FrameLoader\n",
    "from src.models import Detection, DirectionLine, Vehicle\n",
    "from src.perspective import Perspective\n",
    "from src.providentia_utils import parse_perspective\n",
    "from tqdm import tqdm"
   ]
  },
  {
   "cell_type": "code",
   "execution_count": 2,
   "metadata": {},
   "outputs": [],
   "source": [
    "class SimplePredictor:\n",
    "    \"\"\"Simple interface for creating predictions with default parameters\"\"\"\n",
    "\n",
    "    def __init__(self, thresholds_override: float = {}):\n",
    "        self.thresholds = {'score': 0.5, 'mask_width': 25, 'edge_margin': 10}\n",
    "        self.thresholds.update(thresholds_override)\n",
    "        self.vertical_contour_shift = 3\n",
    "        self.label_mapping = {2: 'CAR', 5: 'BUS', 7: 'TRUCK'}\n",
    "        self.dimension_values_mapping = {\n",
    "            'VAN': [[4.09, 5.80, 7.45], [1.66, 2.06, 2.51], [1.81, 2.18, 2.82]],\n",
    "            'CAR': [[3.32, 4.59, 4.87], [1.56, 1.94, 2.16], [1.22, 1.45, 1.81]],\n",
    "            'TRUCK': [[2.57, 9.30, 16.71], [2.00, 2.51, 2.92], [2.82, 3.60, 4.21]],\n",
    "            'BUS': [[10.29, 13.26, 17.59], [2.49, 2.59, 2.80], [2.82, 3.33, 3.93]],\n",
    "        }\n",
    "        self.direction_line = DirectionLine(np.array([[0, 1]]).T, 0)\n",
    "\n",
    "    def create_predictions(\n",
    "        self, detections: List[Detection], perspective: Perspective\n",
    "    ) -> List[Vehicle]:\n",
    "\n",
    "        predictions = create_predictions(\n",
    "            detections,\n",
    "            perspective,\n",
    "            self.direction_line,\n",
    "            self.thresholds,\n",
    "            self.vertical_contour_shift,\n",
    "            self.label_mapping,\n",
    "            self.dimension_values_mapping,\n",
    "        )\n",
    "\n",
    "        return predictions\n",
    "\n",
    "\n",
    "def create_legend_overlay(\n",
    "    color_mapping: Dict, image_shape: Tuple[int, int], item_width: int = 150\n",
    ") -> np.ndarray:\n",
    "    \"\"\"Create overaly for color mapping legend in top left corner.\"\"\"\n",
    "\n",
    "    overlay = np.zeros((*image_shape, 3))\n",
    "\n",
    "    for i, (category, color) in enumerate(color_mapping.items()):\n",
    "        color = np.array(px.colors.validate_colors(color)[0]) * 255\n",
    "\n",
    "        upper_left = i * item_width, 0\n",
    "        lower_right = (i + 1) * item_width, 50\n",
    "\n",
    "        cv2.rectangle(overlay, upper_left, lower_right, color, -1)\n",
    "        cv2.putText(\n",
    "            overlay,\n",
    "            category,\n",
    "            (upper_left[0] + 10, 37),\n",
    "            cv2.FONT_HERSHEY_SIMPLEX,\n",
    "            1.25,\n",
    "            (255, 255, 255),\n",
    "            3,\n",
    "        )\n",
    "\n",
    "    return overlay\n",
    "\n",
    "\n",
    "def create_bbox_frames(\n",
    "    frames_dir: str,\n",
    "    detections_dir: str,\n",
    "    perspective_path: str,\n",
    "    new_frames_dir: str,\n",
    "    thresholds_override: float = {},\n",
    "    box_thickness: float = 4,\n",
    "):\n",
    "    \"\"\"Create frames with overalayed predicted bounding boxes.\"\"\"\n",
    "\n",
    "    predictor = SimplePredictor(thresholds_override)\n",
    "\n",
    "    color_mapping = dict(\n",
    "        zip(['CAR', 'VAN', 'TRUCK', 'BUS'], px.colors.qualitative.Plotly)\n",
    "    )\n",
    "\n",
    "    frame_loader = FrameLoader(frames_dir)\n",
    "    detections_loader = DetectionsLoader(detections_dir)\n",
    "    perspective = parse_perspective(perspective_path)\n",
    "\n",
    "    os.makedirs(new_frames_dir, exist_ok=True)\n",
    "\n",
    "    legend_overlay = create_legend_overlay(color_mapping, perspective.image_shape)\n",
    "\n",
    "    for i, (frame, detections) in enumerate(\n",
    "        tqdm(\n",
    "            zip(frame_loader.load_items(), detections_loader.load_items()),\n",
    "            total=len(frame_loader.paths),\n",
    "        )\n",
    "    ):\n",
    "        predictions = predictor.create_predictions(detections, perspective)\n",
    "\n",
    "        colors = [color_mapping[v.category] for v in predictions]\n",
    "\n",
    "        img = viz.overlay_3d_vehicles(\n",
    "            frame,\n",
    "            predictions,\n",
    "            perspective,\n",
    "            box_thickness=box_thickness,\n",
    "            box_colors=colors,\n",
    "        )\n",
    "\n",
    "        # Overlay color mapping legend.\n",
    "        img[legend_overlay != 0] = legend_overlay[legend_overlay != 0]\n",
    "\n",
    "        path = os.path.join(new_frames_dir, os.path.basename(frame_loader.paths[i]))\n",
    "        cv2.imwrite(path, img[..., ::-1])\n"
   ]
  },
  {
   "cell_type": "code",
   "execution_count": 3,
   "metadata": {},
   "outputs": [],
   "source": [
    "def create_mask_frames(\n",
    "    frames_dir: str,\n",
    "    detections_dir: str,\n",
    "    new_frames_dir: str,\n",
    "    score_threshold: float = 0.5,\n",
    "    color: Tuple = (0, 0, 1),\n",
    "):\n",
    "    \"\"\"Create frames with overlayed masks from detections.\"\"\"\n",
    "    frame_loader = FrameLoader(frames_dir)\n",
    "    detections_loader = DetectionsLoader(detections_dir)\n",
    "\n",
    "    os.makedirs(new_frames_dir, exist_ok=True)\n",
    "\n",
    "    for i, (frame, detections) in enumerate(\n",
    "        tqdm(\n",
    "            zip(frame_loader.load_items(), detections_loader.load_items()),\n",
    "            total=len(frame_loader.paths),\n",
    "        )\n",
    "    ):\n",
    "        detections = [d for d in detections if d.score >= score_threshold]\n",
    "\n",
    "        img = viz.overlay_colored_masks(frame, detections, colors=color)\n",
    "\n",
    "        path = os.path.join(new_frames_dir, os.path.basename(frame_loader.paths[i]))\n",
    "        cv2.imwrite(path, img[..., ::-1])\n"
   ]
  },
  {
   "cell_type": "code",
   "execution_count": 4,
   "metadata": {},
   "outputs": [],
   "source": [
    "def combine_frames_to_video(\n",
    "    frames_dir: str, video_path: str = None, fps: int = 30, frame_type: str = 'jpg'\n",
    "):\n",
    "    \"\"\"Use ffmpeg commands to combines frames into video. The video path should omit the ending/type.\"\"\"\n",
    "    \n",
    "    if video_path is None:\n",
    "        video_path = frames_dir\n",
    "\n",
    "    os.makedirs(os.path.dirname(video_path), exist_ok=True)\n",
    "\n",
    "    os.system(\n",
    "        f'ffmpeg -loglevel error -y -r {fps} -pattern_type glob '\n",
    "        f'-i \"{frames_dir}/*.{frame_type}\" '\n",
    "        f'-c:v libx264 {video_path}.mp4'\n",
    "    )"
   ]
  },
  {
   "cell_type": "code",
   "execution_count": 5,
   "metadata": {},
   "outputs": [],
   "source": [
    "def create_videos(\n",
    "    frames_dir: str,\n",
    "    detections_dir: str,\n",
    "    perspective_path: str,\n",
    "    mask_frames_dir: str,\n",
    "    bbox_frames_dir: str,\n",
    "    fps: int = 30,\n",
    "):\n",
    "    \"\"\"Create mask and bbox frames and the two respective videos.\"\"\"\n",
    "\n",
    "    print('Creating mask frames...', flush=True)\n",
    "    create_mask_frames(frames_dir, detections_dir, mask_frames_dir)\n",
    "\n",
    "    print('Creating bbox frames...', flush=True)\n",
    "    create_bbox_frames(frames_dir, detections_dir, perspective_path, bbox_frames_dir)\n",
    "\n",
    "    print('Creating mask video...', flush=True)\n",
    "    combine_frames_to_video(mask_frames_dir, mask_frames_dir, fps=fps)\n",
    "\n",
    "    print('Creating bbox video...', flush=True)\n",
    "    combine_frames_to_video(bbox_frames_dir, bbox_frames_dir, fps=fps)"
   ]
  },
  {
   "cell_type": "code",
   "execution_count": 6,
   "metadata": {},
   "outputs": [
    {
     "name": "stdout",
     "output_type": "stream",
     "text": [
      "Creating mask frames...\n"
     ]
    },
    {
     "name": "stderr",
     "output_type": "stream",
     "text": [
      "100%|██████████| 1980/1980 [03:26<00:00,  9.58it/s]"
     ]
    },
    {
     "name": "stdout",
     "output_type": "stream",
     "text": [
      "Creating bbox frames...\n"
     ]
    },
    {
     "name": "stderr",
     "output_type": "stream",
     "text": [
      "\n",
      "100%|██████████| 1980/1980 [02:41<00:00, 12.28it/s]"
     ]
    },
    {
     "name": "stdout",
     "output_type": "stream",
     "text": [
      "Creating mask video...\n"
     ]
    },
    {
     "name": "stderr",
     "output_type": "stream",
     "text": [
      "\n"
     ]
    },
    {
     "name": "stdout",
     "output_type": "stream",
     "text": [
      "Creating bbox video...\n"
     ]
    }
   ],
   "source": [
    "create_videos(\n",
    "    '../data/videos/s40_far_video_frames',\n",
    "    '../data/detections/s40_far_video/coco_yolact_resnet101_edge',\n",
    "    '../data/profusion_r0_dataset/r0_s1/05_calibration/s40_camera_basler_north_50mm.json',\n",
    "    'output/video_creation/s40_far_masks',\n",
    "    'output/video_creation/s40_far_video_bboxs',\n",
    ")"
   ]
  },
  {
   "cell_type": "code",
   "execution_count": 7,
   "metadata": {},
   "outputs": [
    {
     "name": "stdout",
     "output_type": "stream",
     "text": [
      "Creating mask frames...\n"
     ]
    },
    {
     "name": "stderr",
     "output_type": "stream",
     "text": [
      "100%|██████████| 607/607 [00:55<00:00, 10.94it/s]"
     ]
    },
    {
     "name": "stdout",
     "output_type": "stream",
     "text": [
      "Creating bbox frames...\n"
     ]
    },
    {
     "name": "stderr",
     "output_type": "stream",
     "text": [
      "\n",
      "100%|██████████| 607/607 [00:52<00:00, 11.63it/s]"
     ]
    },
    {
     "name": "stdout",
     "output_type": "stream",
     "text": [
      "Creating mask video...\n"
     ]
    },
    {
     "name": "stderr",
     "output_type": "stream",
     "text": [
      "\n"
     ]
    },
    {
     "name": "stdout",
     "output_type": "stream",
     "text": [
      "Creating bbox video...\n"
     ]
    }
   ],
   "source": [
    "create_videos(\n",
    "    '../data/videos/rainy_frames',\n",
    "    '../data/detections/rainy/coco_yolact_resnet101_edge',\n",
    "    '../data/profusion_r0_dataset/r0_s1/05_calibration/s50_camera_basler_south_16mm.json',\n",
    "    'output/video_creation/rainy_masks',\n",
    "    'output/video_creation/rainy_bboxes',\n",
    "    fps=10\n",
    ")"
   ]
  },
  {
   "cell_type": "code",
   "execution_count": null,
   "metadata": {},
   "outputs": [],
   "source": []
  }
 ],
 "metadata": {
  "interpreter": {
   "hash": "fa9c5a8f1f4deddb2ec8235298079442a1fa1dd657a205c118aef888c2110fcf"
  },
  "kernelspec": {
   "display_name": "Python 3.9.0 64-bit ('3.9.0': pyenv)",
   "language": "python",
   "name": "python3"
  },
  "language_info": {
   "codemirror_mode": {
    "name": "ipython",
    "version": 3
   },
   "file_extension": ".py",
   "mimetype": "text/x-python",
   "name": "python",
   "nbconvert_exporter": "python",
   "pygments_lexer": "ipython3",
   "version": "3.9.0"
  },
  "orig_nbformat": 4
 },
 "nbformat": 4,
 "nbformat_minor": 2
}
